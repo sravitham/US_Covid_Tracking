{
 "cells": [
  {
   "cell_type": "code",
   "execution_count": 16,
   "id": "fce925ff",
   "metadata": {},
   "outputs": [],
   "source": [
    "import pandas as pd\n",
    "from pprint import pprint\n",
    "from jsonmerge import merge\n",
    "import json\n",
    "from pandas.io.json import json_normalize\n",
    "with open('./US_states_geoJSON.json') as f:\n",
    "    data = json.load(f)\n",
    "with open('./covid_data.json') as f2:\n",
    "    data_2 = json.load(f2)\n",
    "\n"
   ]
  },
  {
   "cell_type": "code",
   "execution_count": 17,
   "id": "c918b34d",
   "metadata": {},
   "outputs": [],
   "source": [
    "# df = pd.read_json('./US_states_geoJSON.json')\n",
    "# from pandas.io.json import json_normalize"
   ]
  },
  {
   "cell_type": "code",
   "execution_count": 18,
   "id": "4c6f8fea",
   "metadata": {},
   "outputs": [],
   "source": [
    "# data['features']"
   ]
  },
  {
   "cell_type": "code",
   "execution_count": 19,
   "id": "40a6f5d4",
   "metadata": {},
   "outputs": [],
   "source": [
    "# data_2['State']"
   ]
  },
  {
   "cell_type": "code",
   "execution_count": 20,
   "id": "d2f60282",
   "metadata": {},
   "outputs": [],
   "source": [
    "merge_js_files = merge(data,data_2)\n",
    "# pprint(merge_js_files, width=40)"
   ]
  },
  {
   "cell_type": "code",
   "execution_count": 22,
   "id": "d20e53d6",
   "metadata": {},
   "outputs": [],
   "source": [
    "jsonString = json.dumps(merge_js_files)\n",
    "jsonFile= open(r'Data/complete_data.json', 'w')\n",
    "jsonFile.write(jsonString)\n",
    "jsonFile.close()"
   ]
  },
  {
   "cell_type": "code",
   "execution_count": null,
   "id": "07e8b54a",
   "metadata": {},
   "outputs": [],
   "source": []
  }
 ],
 "metadata": {
  "kernelspec": {
   "display_name": "Python 3",
   "language": "python",
   "name": "python3"
  },
  "language_info": {
   "codemirror_mode": {
    "name": "ipython",
    "version": 3
   },
   "file_extension": ".py",
   "mimetype": "text/x-python",
   "name": "python",
   "nbconvert_exporter": "python",
   "pygments_lexer": "ipython3",
   "version": "3.6.10"
  }
 },
 "nbformat": 4,
 "nbformat_minor": 5
}
