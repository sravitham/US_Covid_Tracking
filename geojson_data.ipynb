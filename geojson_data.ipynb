{
 "cells": [
  {
   "cell_type": "code",
   "execution_count": 1,
   "id": "fce925ff",
   "metadata": {},
   "outputs": [],
   "source": [
    "import pandas as pd\n",
    "from pprint import pprint\n",
    "from jsonmerge import merge\n",
    "import json\n",
    "from pandas.io.json import json_normalize\n",
    "with open('./US_states_geoJSON.json') as f:\n",
    "    data = json.load(f)\n",
    "with open('./covid_data.json') as f2:\n",
    "    data_2 = json.load(f2)\n",
    "\n"
   ]
  },
  {
   "cell_type": "code",
   "execution_count": 3,
   "id": "c918b34d",
   "metadata": {},
   "outputs": [],
   "source": [
    "# df = pd.read_json('./US_states_geoJSON.json')\n",
    "# from pandas.io.json import json_normalize"
   ]
  },
  {
   "cell_type": "code",
   "execution_count": 7,
   "id": "4c6f8fea",
   "metadata": {},
   "outputs": [],
   "source": [
    "# data['features']"
   ]
  },
  {
   "cell_type": "code",
   "execution_count": 8,
   "id": "40a6f5d4",
   "metadata": {},
   "outputs": [],
   "source": [
    "# data_2['State']"
   ]
  },
  {
   "cell_type": "code",
   "execution_count": 9,
   "id": "d2f60282",
   "metadata": {},
   "outputs": [],
   "source": [
    "merge_js_files = merge(data,data_2)\n",
    "# pprint(merge_js_files, width=40)"
   ]
  },
  {
   "cell_type": "code",
   "execution_count": 10,
   "id": "d20e53d6",
   "metadata": {},
   "outputs": [
    {
     "ename": "AttributeError",
     "evalue": "'dict' object has no attribute 'to_json'",
     "output_type": "error",
     "traceback": [
      "\u001b[0;31m---------------------------------------------------------------------------\u001b[0m",
      "\u001b[0;31mAttributeError\u001b[0m                            Traceback (most recent call last)",
      "\u001b[0;32m<ipython-input-10-04b67c81821e>\u001b[0m in \u001b[0;36m<module>\u001b[0;34m\u001b[0m\n\u001b[0;32m----> 1\u001b[0;31m \u001b[0mmerge_js_files\u001b[0m\u001b[0;34m.\u001b[0m\u001b[0mto_json\u001b[0m\u001b[0;34m(\u001b[0m\u001b[0;34mr'Data/merge_covid_data.json'\u001b[0m\u001b[0;34m)\u001b[0m\u001b[0;34m\u001b[0m\u001b[0;34m\u001b[0m\u001b[0m\n\u001b[0m",
      "\u001b[0;31mAttributeError\u001b[0m: 'dict' object has no attribute 'to_json'"
     ]
    }
   ],
   "source": [
    "merge_js_files.to_json(r'Data/merge_covid_data.json')"
   ]
  },
  {
   "cell_type": "code",
   "execution_count": null,
   "id": "07e8b54a",
   "metadata": {},
   "outputs": [],
   "source": []
  }
 ],
 "metadata": {
  "kernelspec": {
   "display_name": "Python 3",
   "language": "python",
   "name": "python3"
  },
  "language_info": {
   "codemirror_mode": {
    "name": "ipython",
    "version": 3
   },
   "file_extension": ".py",
   "mimetype": "text/x-python",
   "name": "python",
   "nbconvert_exporter": "python",
   "pygments_lexer": "ipython3",
   "version": "3.6.10"
  }
 },
 "nbformat": 4,
 "nbformat_minor": 5
}
