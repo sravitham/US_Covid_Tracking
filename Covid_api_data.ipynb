{
 "cells": [
  {
   "cell_type": "code",
   "execution_count": 11,
   "id": "e9013c80",
   "metadata": {},
   "outputs": [],
   "source": [
    "# dependencies\n",
    "import pandas as pd \n",
    "import requests \n",
    "import us\n",
    "import json\n",
    "from pprint import pprint \n",
    "\n"
   ]
  },
  {
   "cell_type": "code",
   "execution_count": 12,
   "id": "0919401b",
   "metadata": {},
   "outputs": [],
   "source": [
    "# Built URL using Census variables website https://api.census.gov/data/timeseries/poverty/saipe/variables.html\n",
    "url=\"https://api.covidtracking.com/v1/states/daily.json\"\n",
    "\n",
    "# # Build query URL\n",
    "# query_url = url + \"&key=\" + census \n",
    "\n",
    "# Get poverty data\n",
    "cov_response = requests.get(url)\n",
    "cov_json = pov_response.json()\n"
   ]
  },
  {
   "cell_type": "code",
   "execution_count": 13,
   "id": "edc802b8",
   "metadata": {},
   "outputs": [
    {
     "data": {
      "text/plain": [
       "<Response [200]>"
      ]
     },
     "execution_count": 13,
     "metadata": {},
     "output_type": "execute_result"
    }
   ],
   "source": [
    "cov_response"
   ]
  },
  {
   "cell_type": "code",
   "execution_count": 14,
   "id": "9a389d7d",
   "metadata": {
    "scrolled": true
   },
   "outputs": [
    {
     "data": {
      "text/plain": [
       "{'date': 20210307,\n",
       " 'state': 'AK',\n",
       " 'positive': 56886,\n",
       " 'probableCases': None,\n",
       " 'negative': None,\n",
       " 'pending': None,\n",
       " 'totalTestResultsSource': 'totalTestsViral',\n",
       " 'totalTestResults': 1731628,\n",
       " 'hospitalizedCurrently': 33,\n",
       " 'hospitalizedCumulative': 1293,\n",
       " 'inIcuCurrently': None,\n",
       " 'inIcuCumulative': None,\n",
       " 'onVentilatorCurrently': 2,\n",
       " 'onVentilatorCumulative': None,\n",
       " 'recovered': None,\n",
       " 'lastUpdateEt': '3/5/2021 03:59',\n",
       " 'dateModified': '2021-03-05T03:59:00Z',\n",
       " 'checkTimeEt': '03/04 22:59',\n",
       " 'death': 305,\n",
       " 'hospitalized': 1293,\n",
       " 'hospitalizedDischarged': None,\n",
       " 'dateChecked': '2021-03-05T03:59:00Z',\n",
       " 'totalTestsViral': 1731628,\n",
       " 'positiveTestsViral': 68693,\n",
       " 'negativeTestsViral': 1660758,\n",
       " 'positiveCasesViral': None,\n",
       " 'deathConfirmed': None,\n",
       " 'deathProbable': None,\n",
       " 'totalTestEncountersViral': None,\n",
       " 'totalTestsPeopleViral': None,\n",
       " 'totalTestsAntibody': None,\n",
       " 'positiveTestsAntibody': None,\n",
       " 'negativeTestsAntibody': None,\n",
       " 'totalTestsPeopleAntibody': None,\n",
       " 'positiveTestsPeopleAntibody': None,\n",
       " 'negativeTestsPeopleAntibody': None,\n",
       " 'totalTestsPeopleAntigen': None,\n",
       " 'positiveTestsPeopleAntigen': None,\n",
       " 'totalTestsAntigen': None,\n",
       " 'positiveTestsAntigen': None,\n",
       " 'fips': '02',\n",
       " 'positiveIncrease': 0,\n",
       " 'negativeIncrease': 0,\n",
       " 'total': 56886,\n",
       " 'totalTestResultsIncrease': 0,\n",
       " 'posNeg': 56886,\n",
       " 'dataQualityGrade': None,\n",
       " 'deathIncrease': 0,\n",
       " 'hospitalizedIncrease': 0,\n",
       " 'hash': 'dc4bccd4bb885349d7e94d6fed058e285d4be164',\n",
       " 'commercialScore': 0,\n",
       " 'negativeRegularScore': 0,\n",
       " 'negativeScore': 0,\n",
       " 'positiveScore': 0,\n",
       " 'score': 0,\n",
       " 'grade': ''}"
      ]
     },
     "execution_count": 14,
     "metadata": {},
     "output_type": "execute_result"
    }
   ],
   "source": [
    "cov_json[0]"
   ]
  },
  {
   "cell_type": "code",
   "execution_count": null,
   "id": "68aae988",
   "metadata": {},
   "outputs": [],
   "source": [
    "# cov_df=pd.DataFrame(columns='date', data=pov_json)\n",
    "\n",
    "for index, row in df.iterrows():\n",
    "    date= cov_json['date']\n",
    "    state=cov_json['state']\n",
    "    fips=cov_json['fips']\n",
    "    positve= cov_json['positve']\n",
    "    probableCases= cov_json['probableCase']\n",
    "    negative= cov_json['negative']\n",
    "    hospitalizedCumulative= cov_json['negative']\n",
    "    recovered= cov_json['recovered']\n",
    "    death= cov_json['death']\n",
    "    positiveCasesViral= cov_json['positiveCasesViral']\n",
    "    deathConfirmed= cov_json\n"
   ]
  },
  {
   "cell_type": "code",
   "execution_count": null,
   "id": "0f2632ab",
   "metadata": {},
   "outputs": [],
   "source": [
    "# Built URL using Census variables website https://api.census.gov/data/timeseries/poverty/saipe/variables.html\n",
    "url=\"https://api.covidtracking.com/v1/states/current.json\"\n",
    "\n",
    "# # Build query URL\n",
    "# query_url = url + \"&key=\" + census \n",
    "\n",
    "# Get poverty data\n",
    "cov_response = requests.get(url)\n",
    "cov_json = pov_response.json()"
   ]
  }
 ],
 "metadata": {
  "kernelspec": {
   "display_name": "Python 3 (ipykernel)",
   "language": "python",
   "name": "python3"
  },
  "language_info": {
   "codemirror_mode": {
    "name": "ipython",
    "version": 3
   },
   "file_extension": ".py",
   "mimetype": "text/x-python",
   "name": "python",
   "nbconvert_exporter": "python",
   "pygments_lexer": "ipython3",
   "version": "3.9.7"
  }
 },
 "nbformat": 4,
 "nbformat_minor": 5
}
